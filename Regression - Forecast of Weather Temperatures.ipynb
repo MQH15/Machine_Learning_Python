{
 "cells": [
  {
   "cell_type": "markdown",
   "metadata": {},
   "source": [
    "# Forecast of Weather Temperatures\n",
    "\n",
    "## Problem Statement\n",
    "\n",
    "We would like to forecast the temperatures if we know the temperature of the previous days"
   ]
  },
  {
   "cell_type": "code",
   "execution_count": 1,
   "metadata": {},
   "outputs": [
    {
     "name": "stdout",
     "output_type": "stream",
     "text": [
      "Populating the interactive namespace from numpy and matplotlib\n"
     ]
    }
   ],
   "source": [
    "%pylab inline"
   ]
  },
  {
   "cell_type": "code",
   "execution_count": 2,
   "metadata": {},
   "outputs": [],
   "source": [
    "import pandas as pd"
   ]
  },
  {
   "cell_type": "code",
   "execution_count": 5,
   "metadata": {},
   "outputs": [],
   "source": [
    "df = pd.read_csv(\"GlobalTemperatures.csv\")\n",
    "df=df[[\"dt\",\"LandAverageTemperature\"]]\n",
    "df.columns=[\"date\",\"t0\"]"
   ]
  },
  {
   "cell_type": "code",
   "execution_count": 6,
   "metadata": {},
   "outputs": [
    {
     "data": {
      "text/html": [
       "<div>\n",
       "<style scoped>\n",
       "    .dataframe tbody tr th:only-of-type {\n",
       "        vertical-align: middle;\n",
       "    }\n",
       "\n",
       "    .dataframe tbody tr th {\n",
       "        vertical-align: top;\n",
       "    }\n",
       "\n",
       "    .dataframe thead th {\n",
       "        text-align: right;\n",
       "    }\n",
       "</style>\n",
       "<table border=\"1\" class=\"dataframe\">\n",
       "  <thead>\n",
       "    <tr style=\"text-align: right;\">\n",
       "      <th></th>\n",
       "      <th>date</th>\n",
       "      <th>t0</th>\n",
       "    </tr>\n",
       "  </thead>\n",
       "  <tbody>\n",
       "    <tr>\n",
       "      <th>0</th>\n",
       "      <td>1750-01-01</td>\n",
       "      <td>3.034</td>\n",
       "    </tr>\n",
       "    <tr>\n",
       "      <th>1</th>\n",
       "      <td>1750-02-01</td>\n",
       "      <td>3.083</td>\n",
       "    </tr>\n",
       "    <tr>\n",
       "      <th>2</th>\n",
       "      <td>1750-03-01</td>\n",
       "      <td>5.626</td>\n",
       "    </tr>\n",
       "    <tr>\n",
       "      <th>3</th>\n",
       "      <td>1750-04-01</td>\n",
       "      <td>8.490</td>\n",
       "    </tr>\n",
       "    <tr>\n",
       "      <th>4</th>\n",
       "      <td>1750-05-01</td>\n",
       "      <td>11.573</td>\n",
       "    </tr>\n",
       "  </tbody>\n",
       "</table>\n",
       "</div>"
      ],
      "text/plain": [
       "         date      t0\n",
       "0  1750-01-01   3.034\n",
       "1  1750-02-01   3.083\n",
       "2  1750-03-01   5.626\n",
       "3  1750-04-01   8.490\n",
       "4  1750-05-01  11.573"
      ]
     },
     "execution_count": 6,
     "metadata": {},
     "output_type": "execute_result"
    }
   ],
   "source": [
    "df.head()"
   ]
  },
  {
   "cell_type": "code",
   "execution_count": 9,
   "metadata": {},
   "outputs": [],
   "source": [
    "df[\"mes\"] = pd.to_datetime(df[\"date\"],format=\"%Y-%m-%d\").dt.month"
   ]
  },
  {
   "cell_type": "code",
   "execution_count": 10,
   "metadata": {},
   "outputs": [
    {
     "data": {
      "text/html": [
       "<div>\n",
       "<style scoped>\n",
       "    .dataframe tbody tr th:only-of-type {\n",
       "        vertical-align: middle;\n",
       "    }\n",
       "\n",
       "    .dataframe tbody tr th {\n",
       "        vertical-align: top;\n",
       "    }\n",
       "\n",
       "    .dataframe thead th {\n",
       "        text-align: right;\n",
       "    }\n",
       "</style>\n",
       "<table border=\"1\" class=\"dataframe\">\n",
       "  <thead>\n",
       "    <tr style=\"text-align: right;\">\n",
       "      <th></th>\n",
       "      <th>date</th>\n",
       "      <th>t0</th>\n",
       "      <th>mes</th>\n",
       "    </tr>\n",
       "  </thead>\n",
       "  <tbody>\n",
       "    <tr>\n",
       "      <th>0</th>\n",
       "      <td>1750-01-01</td>\n",
       "      <td>3.034</td>\n",
       "      <td>1</td>\n",
       "    </tr>\n",
       "    <tr>\n",
       "      <th>1</th>\n",
       "      <td>1750-02-01</td>\n",
       "      <td>3.083</td>\n",
       "      <td>2</td>\n",
       "    </tr>\n",
       "    <tr>\n",
       "      <th>2</th>\n",
       "      <td>1750-03-01</td>\n",
       "      <td>5.626</td>\n",
       "      <td>3</td>\n",
       "    </tr>\n",
       "    <tr>\n",
       "      <th>3</th>\n",
       "      <td>1750-04-01</td>\n",
       "      <td>8.490</td>\n",
       "      <td>4</td>\n",
       "    </tr>\n",
       "    <tr>\n",
       "      <th>4</th>\n",
       "      <td>1750-05-01</td>\n",
       "      <td>11.573</td>\n",
       "      <td>5</td>\n",
       "    </tr>\n",
       "  </tbody>\n",
       "</table>\n",
       "</div>"
      ],
      "text/plain": [
       "         date      t0  mes\n",
       "0  1750-01-01   3.034    1\n",
       "1  1750-02-01   3.083    2\n",
       "2  1750-03-01   5.626    3\n",
       "3  1750-04-01   8.490    4\n",
       "4  1750-05-01  11.573    5"
      ]
     },
     "execution_count": 10,
     "metadata": {},
     "output_type": "execute_result"
    }
   ],
   "source": [
    "df.head()"
   ]
  },
  {
   "cell_type": "code",
   "execution_count": 11,
   "metadata": {},
   "outputs": [],
   "source": [
    "# lagged values\n",
    "input_col = []\n",
    "for i in range(1,10):\n",
    "    input_col.append(\"t\"+str(i))\n",
    "    df[\"t\"+str(i)]=df[\"t0\"].shift(i)"
   ]
  },
  {
   "cell_type": "code",
   "execution_count": 14,
   "metadata": {},
   "outputs": [
    {
     "data": {
      "text/html": [
       "<div>\n",
       "<style scoped>\n",
       "    .dataframe tbody tr th:only-of-type {\n",
       "        vertical-align: middle;\n",
       "    }\n",
       "\n",
       "    .dataframe tbody tr th {\n",
       "        vertical-align: top;\n",
       "    }\n",
       "\n",
       "    .dataframe thead th {\n",
       "        text-align: right;\n",
       "    }\n",
       "</style>\n",
       "<table border=\"1\" class=\"dataframe\">\n",
       "  <thead>\n",
       "    <tr style=\"text-align: right;\">\n",
       "      <th></th>\n",
       "      <th>date</th>\n",
       "      <th>t0</th>\n",
       "      <th>mes</th>\n",
       "      <th>t1</th>\n",
       "      <th>t2</th>\n",
       "      <th>t3</th>\n",
       "      <th>t4</th>\n",
       "      <th>t5</th>\n",
       "      <th>t6</th>\n",
       "      <th>t7</th>\n",
       "      <th>t8</th>\n",
       "      <th>t9</th>\n",
       "    </tr>\n",
       "  </thead>\n",
       "  <tbody>\n",
       "    <tr>\n",
       "      <th>0</th>\n",
       "      <td>1750-01-01</td>\n",
       "      <td>3.034</td>\n",
       "      <td>1</td>\n",
       "      <td>NaN</td>\n",
       "      <td>NaN</td>\n",
       "      <td>NaN</td>\n",
       "      <td>NaN</td>\n",
       "      <td>NaN</td>\n",
       "      <td>NaN</td>\n",
       "      <td>NaN</td>\n",
       "      <td>NaN</td>\n",
       "      <td>NaN</td>\n",
       "    </tr>\n",
       "    <tr>\n",
       "      <th>1</th>\n",
       "      <td>1750-02-01</td>\n",
       "      <td>3.083</td>\n",
       "      <td>2</td>\n",
       "      <td>3.034</td>\n",
       "      <td>NaN</td>\n",
       "      <td>NaN</td>\n",
       "      <td>NaN</td>\n",
       "      <td>NaN</td>\n",
       "      <td>NaN</td>\n",
       "      <td>NaN</td>\n",
       "      <td>NaN</td>\n",
       "      <td>NaN</td>\n",
       "    </tr>\n",
       "    <tr>\n",
       "      <th>2</th>\n",
       "      <td>1750-03-01</td>\n",
       "      <td>5.626</td>\n",
       "      <td>3</td>\n",
       "      <td>3.083</td>\n",
       "      <td>3.034</td>\n",
       "      <td>NaN</td>\n",
       "      <td>NaN</td>\n",
       "      <td>NaN</td>\n",
       "      <td>NaN</td>\n",
       "      <td>NaN</td>\n",
       "      <td>NaN</td>\n",
       "      <td>NaN</td>\n",
       "    </tr>\n",
       "    <tr>\n",
       "      <th>3</th>\n",
       "      <td>1750-04-01</td>\n",
       "      <td>8.490</td>\n",
       "      <td>4</td>\n",
       "      <td>5.626</td>\n",
       "      <td>3.083</td>\n",
       "      <td>3.034</td>\n",
       "      <td>NaN</td>\n",
       "      <td>NaN</td>\n",
       "      <td>NaN</td>\n",
       "      <td>NaN</td>\n",
       "      <td>NaN</td>\n",
       "      <td>NaN</td>\n",
       "    </tr>\n",
       "    <tr>\n",
       "      <th>4</th>\n",
       "      <td>1750-05-01</td>\n",
       "      <td>11.573</td>\n",
       "      <td>5</td>\n",
       "      <td>8.490</td>\n",
       "      <td>5.626</td>\n",
       "      <td>3.083</td>\n",
       "      <td>3.034</td>\n",
       "      <td>NaN</td>\n",
       "      <td>NaN</td>\n",
       "      <td>NaN</td>\n",
       "      <td>NaN</td>\n",
       "      <td>NaN</td>\n",
       "    </tr>\n",
       "  </tbody>\n",
       "</table>\n",
       "</div>"
      ],
      "text/plain": [
       "         date      t0  mes     t1     t2     t3     t4  t5  t6  t7  t8  t9\n",
       "0  1750-01-01   3.034    1    NaN    NaN    NaN    NaN NaN NaN NaN NaN NaN\n",
       "1  1750-02-01   3.083    2  3.034    NaN    NaN    NaN NaN NaN NaN NaN NaN\n",
       "2  1750-03-01   5.626    3  3.083  3.034    NaN    NaN NaN NaN NaN NaN NaN\n",
       "3  1750-04-01   8.490    4  5.626  3.083  3.034    NaN NaN NaN NaN NaN NaN\n",
       "4  1750-05-01  11.573    5  8.490  5.626  3.083  3.034 NaN NaN NaN NaN NaN"
      ]
     },
     "execution_count": 14,
     "metadata": {},
     "output_type": "execute_result"
    }
   ],
   "source": [
    "df.head()"
   ]
  },
  {
   "cell_type": "code",
   "execution_count": 15,
   "metadata": {},
   "outputs": [],
   "source": [
    "df=df.dropna()"
   ]
  },
  {
   "cell_type": "code",
   "execution_count": 16,
   "metadata": {},
   "outputs": [
    {
     "data": {
      "text/html": [
       "<div>\n",
       "<style scoped>\n",
       "    .dataframe tbody tr th:only-of-type {\n",
       "        vertical-align: middle;\n",
       "    }\n",
       "\n",
       "    .dataframe tbody tr th {\n",
       "        vertical-align: top;\n",
       "    }\n",
       "\n",
       "    .dataframe thead th {\n",
       "        text-align: right;\n",
       "    }\n",
       "</style>\n",
       "<table border=\"1\" class=\"dataframe\">\n",
       "  <thead>\n",
       "    <tr style=\"text-align: right;\">\n",
       "      <th></th>\n",
       "      <th>date</th>\n",
       "      <th>t0</th>\n",
       "      <th>mes</th>\n",
       "      <th>t1</th>\n",
       "      <th>t2</th>\n",
       "      <th>t3</th>\n",
       "      <th>t4</th>\n",
       "      <th>t5</th>\n",
       "      <th>t6</th>\n",
       "      <th>t7</th>\n",
       "      <th>t8</th>\n",
       "      <th>t9</th>\n",
       "    </tr>\n",
       "  </thead>\n",
       "  <tbody>\n",
       "    <tr>\n",
       "      <th>9</th>\n",
       "      <td>1750-10-01</td>\n",
       "      <td>6.367</td>\n",
       "      <td>10</td>\n",
       "      <td>11.413</td>\n",
       "      <td>14.750</td>\n",
       "      <td>15.868</td>\n",
       "      <td>12.937</td>\n",
       "      <td>11.573</td>\n",
       "      <td>8.490</td>\n",
       "      <td>5.626</td>\n",
       "      <td>3.083</td>\n",
       "      <td>3.034</td>\n",
       "    </tr>\n",
       "    <tr>\n",
       "      <th>42</th>\n",
       "      <td>1753-07-01</td>\n",
       "      <td>15.092</td>\n",
       "      <td>7</td>\n",
       "      <td>14.585</td>\n",
       "      <td>12.186</td>\n",
       "      <td>8.272</td>\n",
       "      <td>5.424</td>\n",
       "      <td>0.715</td>\n",
       "      <td>2.039</td>\n",
       "      <td>5.086</td>\n",
       "      <td>7.335</td>\n",
       "      <td>7.839</td>\n",
       "    </tr>\n",
       "    <tr>\n",
       "      <th>43</th>\n",
       "      <td>1753-08-01</td>\n",
       "      <td>14.148</td>\n",
       "      <td>8</td>\n",
       "      <td>15.092</td>\n",
       "      <td>14.585</td>\n",
       "      <td>12.186</td>\n",
       "      <td>8.272</td>\n",
       "      <td>5.424</td>\n",
       "      <td>0.715</td>\n",
       "      <td>2.039</td>\n",
       "      <td>5.086</td>\n",
       "      <td>7.335</td>\n",
       "    </tr>\n",
       "    <tr>\n",
       "      <th>44</th>\n",
       "      <td>1753-09-01</td>\n",
       "      <td>13.322</td>\n",
       "      <td>9</td>\n",
       "      <td>14.148</td>\n",
       "      <td>15.092</td>\n",
       "      <td>14.585</td>\n",
       "      <td>12.186</td>\n",
       "      <td>8.272</td>\n",
       "      <td>5.424</td>\n",
       "      <td>0.715</td>\n",
       "      <td>2.039</td>\n",
       "      <td>5.086</td>\n",
       "    </tr>\n",
       "    <tr>\n",
       "      <th>45</th>\n",
       "      <td>1753-10-01</td>\n",
       "      <td>8.962</td>\n",
       "      <td>10</td>\n",
       "      <td>13.322</td>\n",
       "      <td>14.148</td>\n",
       "      <td>15.092</td>\n",
       "      <td>14.585</td>\n",
       "      <td>12.186</td>\n",
       "      <td>8.272</td>\n",
       "      <td>5.424</td>\n",
       "      <td>0.715</td>\n",
       "      <td>2.039</td>\n",
       "    </tr>\n",
       "  </tbody>\n",
       "</table>\n",
       "</div>"
      ],
      "text/plain": [
       "          date      t0  mes      t1      t2      t3      t4      t5     t6  \\\n",
       "9   1750-10-01   6.367   10  11.413  14.750  15.868  12.937  11.573  8.490   \n",
       "42  1753-07-01  15.092    7  14.585  12.186   8.272   5.424   0.715  2.039   \n",
       "43  1753-08-01  14.148    8  15.092  14.585  12.186   8.272   5.424  0.715   \n",
       "44  1753-09-01  13.322    9  14.148  15.092  14.585  12.186   8.272  5.424   \n",
       "45  1753-10-01   8.962   10  13.322  14.148  15.092  14.585  12.186  8.272   \n",
       "\n",
       "       t7     t8     t9  \n",
       "9   5.626  3.083  3.034  \n",
       "42  5.086  7.335  7.839  \n",
       "43  2.039  5.086  7.335  \n",
       "44  0.715  2.039  5.086  \n",
       "45  5.424  0.715  2.039  "
      ]
     },
     "execution_count": 16,
     "metadata": {},
     "output_type": "execute_result"
    }
   ],
   "source": [
    "df.head()"
   ]
  },
  {
   "cell_type": "code",
   "execution_count": 17,
   "metadata": {},
   "outputs": [],
   "source": [
    "# Historico de entrenamiento\n",
    "df=df[df[\"date\"]>\"1950\"]"
   ]
  },
  {
   "cell_type": "code",
   "execution_count": 18,
   "metadata": {},
   "outputs": [],
   "source": [
    "# Hold-out\n",
    "df_train = df[df[\"date\"]<=\"2012\"]\n",
    "df_test = df[df[\"date\"]>\"2012\"]"
   ]
  },
  {
   "cell_type": "code",
   "execution_count": 19,
   "metadata": {},
   "outputs": [
    {
     "data": {
      "text/html": [
       "<div>\n",
       "<style scoped>\n",
       "    .dataframe tbody tr th:only-of-type {\n",
       "        vertical-align: middle;\n",
       "    }\n",
       "\n",
       "    .dataframe tbody tr th {\n",
       "        vertical-align: top;\n",
       "    }\n",
       "\n",
       "    .dataframe thead th {\n",
       "        text-align: right;\n",
       "    }\n",
       "</style>\n",
       "<table border=\"1\" class=\"dataframe\">\n",
       "  <thead>\n",
       "    <tr style=\"text-align: right;\">\n",
       "      <th></th>\n",
       "      <th>date</th>\n",
       "      <th>t0</th>\n",
       "      <th>mes</th>\n",
       "      <th>t1</th>\n",
       "      <th>t2</th>\n",
       "      <th>t3</th>\n",
       "      <th>t4</th>\n",
       "      <th>t5</th>\n",
       "      <th>t6</th>\n",
       "      <th>t7</th>\n",
       "      <th>t8</th>\n",
       "      <th>t9</th>\n",
       "    </tr>\n",
       "  </thead>\n",
       "  <tbody>\n",
       "    <tr>\n",
       "      <th>3187</th>\n",
       "      <td>2015-08-01</td>\n",
       "      <td>14.755</td>\n",
       "      <td>8</td>\n",
       "      <td>15.051</td>\n",
       "      <td>14.505</td>\n",
       "      <td>12.312</td>\n",
       "      <td>9.313</td>\n",
       "      <td>6.740</td>\n",
       "      <td>4.664</td>\n",
       "      <td>3.881</td>\n",
       "      <td>4.850</td>\n",
       "      <td>6.713</td>\n",
       "    </tr>\n",
       "    <tr>\n",
       "      <th>3188</th>\n",
       "      <td>2015-09-01</td>\n",
       "      <td>12.999</td>\n",
       "      <td>9</td>\n",
       "      <td>14.755</td>\n",
       "      <td>15.051</td>\n",
       "      <td>14.505</td>\n",
       "      <td>12.312</td>\n",
       "      <td>9.313</td>\n",
       "      <td>6.740</td>\n",
       "      <td>4.664</td>\n",
       "      <td>3.881</td>\n",
       "      <td>4.850</td>\n",
       "    </tr>\n",
       "    <tr>\n",
       "      <th>3189</th>\n",
       "      <td>2015-10-01</td>\n",
       "      <td>10.801</td>\n",
       "      <td>10</td>\n",
       "      <td>12.999</td>\n",
       "      <td>14.755</td>\n",
       "      <td>15.051</td>\n",
       "      <td>14.505</td>\n",
       "      <td>12.312</td>\n",
       "      <td>9.313</td>\n",
       "      <td>6.740</td>\n",
       "      <td>4.664</td>\n",
       "      <td>3.881</td>\n",
       "    </tr>\n",
       "    <tr>\n",
       "      <th>3190</th>\n",
       "      <td>2015-11-01</td>\n",
       "      <td>7.433</td>\n",
       "      <td>11</td>\n",
       "      <td>10.801</td>\n",
       "      <td>12.999</td>\n",
       "      <td>14.755</td>\n",
       "      <td>15.051</td>\n",
       "      <td>14.505</td>\n",
       "      <td>12.312</td>\n",
       "      <td>9.313</td>\n",
       "      <td>6.740</td>\n",
       "      <td>4.664</td>\n",
       "    </tr>\n",
       "    <tr>\n",
       "      <th>3191</th>\n",
       "      <td>2015-12-01</td>\n",
       "      <td>5.518</td>\n",
       "      <td>12</td>\n",
       "      <td>7.433</td>\n",
       "      <td>10.801</td>\n",
       "      <td>12.999</td>\n",
       "      <td>14.755</td>\n",
       "      <td>15.051</td>\n",
       "      <td>14.505</td>\n",
       "      <td>12.312</td>\n",
       "      <td>9.313</td>\n",
       "      <td>6.740</td>\n",
       "    </tr>\n",
       "  </tbody>\n",
       "</table>\n",
       "</div>"
      ],
      "text/plain": [
       "            date      t0  mes      t1      t2      t3      t4      t5      t6  \\\n",
       "3187  2015-08-01  14.755    8  15.051  14.505  12.312   9.313   6.740   4.664   \n",
       "3188  2015-09-01  12.999    9  14.755  15.051  14.505  12.312   9.313   6.740   \n",
       "3189  2015-10-01  10.801   10  12.999  14.755  15.051  14.505  12.312   9.313   \n",
       "3190  2015-11-01   7.433   11  10.801  12.999  14.755  15.051  14.505  12.312   \n",
       "3191  2015-12-01   5.518   12   7.433  10.801  12.999  14.755  15.051  14.505   \n",
       "\n",
       "          t7     t8     t9  \n",
       "3187   3.881  4.850  6.713  \n",
       "3188   4.664  3.881  4.850  \n",
       "3189   6.740  4.664  3.881  \n",
       "3190   9.313  6.740  4.664  \n",
       "3191  12.312  9.313  6.740  "
      ]
     },
     "execution_count": 19,
     "metadata": {},
     "output_type": "execute_result"
    }
   ],
   "source": [
    "df.tail()"
   ]
  },
  {
   "cell_type": "code",
   "execution_count": 20,
   "metadata": {},
   "outputs": [
    {
     "data": {
      "text/plain": [
       "['t1', 't2', 't3', 't4', 't5', 't6', 't7', 't8', 't9']"
      ]
     },
     "execution_count": 20,
     "metadata": {},
     "output_type": "execute_result"
    }
   ],
   "source": [
    "input_col"
   ]
  },
  {
   "cell_type": "code",
   "execution_count": 22,
   "metadata": {},
   "outputs": [],
   "source": [
    "X_train=df_train[input_col+[\"mes\"]]\n",
    "y_train=df_train[\"t0\"]"
   ]
  },
  {
   "cell_type": "code",
   "execution_count": 23,
   "metadata": {},
   "outputs": [],
   "source": [
    "X_test=df_test[input_col+[\"mes\"]]\n",
    "y_test=df_test[\"t0\"]"
   ]
  },
  {
   "cell_type": "code",
   "execution_count": 24,
   "metadata": {},
   "outputs": [],
   "source": [
    "from sklearn.tree import DecisionTreeRegressor"
   ]
  },
  {
   "cell_type": "code",
   "execution_count": 25,
   "metadata": {},
   "outputs": [
    {
     "data": {
      "text/plain": [
       "DecisionTreeRegressor(criterion='mse', max_depth=5, max_features=None,\n",
       "           max_leaf_nodes=None, min_impurity_decrease=0.0,\n",
       "           min_impurity_split=None, min_samples_leaf=1,\n",
       "           min_samples_split=2, min_weight_fraction_leaf=0.0,\n",
       "           presort=False, random_state=None, splitter='best')"
      ]
     },
     "execution_count": 25,
     "metadata": {},
     "output_type": "execute_result"
    }
   ],
   "source": [
    "reg = DecisionTreeRegressor(max_depth=5)\n",
    "reg.fit(X_train,y_train)"
   ]
  },
  {
   "cell_type": "code",
   "execution_count": 26,
   "metadata": {},
   "outputs": [],
   "source": [
    "from sklearn.metrics import mean_squared_error"
   ]
  },
  {
   "cell_type": "code",
   "execution_count": 27,
   "metadata": {},
   "outputs": [
    {
     "data": {
      "text/plain": [
       "0.27902913764040926"
      ]
     },
     "execution_count": 27,
     "metadata": {},
     "output_type": "execute_result"
    }
   ],
   "source": [
    "mean_squared_error(y_test,reg.predict(X_test))"
   ]
  },
  {
   "cell_type": "code",
   "execution_count": 28,
   "metadata": {},
   "outputs": [
    {
     "data": {
      "text/plain": [
       "0.2205264792935382"
      ]
     },
     "execution_count": 28,
     "metadata": {},
     "output_type": "execute_result"
    }
   ],
   "source": [
    "from sklearn.ensemble import RandomForestRegressor\n",
    "reg=RandomForestRegressor(n_estimators=50,max_depth=5)\n",
    "reg.fit(X_train,y_train)\n",
    "mean_squared_error(y_test,reg.predict(X_test))"
   ]
  },
  {
   "cell_type": "code",
   "execution_count": null,
   "metadata": {},
   "outputs": [],
   "source": []
  }
 ],
 "metadata": {
  "kernelspec": {
   "display_name": "Python 3",
   "language": "python",
   "name": "python3"
  },
  "language_info": {
   "codemirror_mode": {
    "name": "ipython",
    "version": 3
   },
   "file_extension": ".py",
   "mimetype": "text/x-python",
   "name": "python",
   "nbconvert_exporter": "python",
   "pygments_lexer": "ipython3",
   "version": "3.6.6"
  }
 },
 "nbformat": 4,
 "nbformat_minor": 2
}
